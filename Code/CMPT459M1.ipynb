{
 "cells": [
  {
   "cell_type": "code",
   "execution_count": null,
   "metadata": {},
   "outputs": [],
   "source": [
    "import pandas\n",
    "import json\n",
    "from PIL import Image\n",
    "\n",
    "%matplotlib inline  \n",
    "\n",
    "#Import an image\n",
    "image = Image.open(\"6812239_c479fd5691f4bd53cc8de7d651e46f70.jpg\")\n",
    "\n",
    "image\n",
    "\n",
    "\n"
   ]
  },
  {
   "cell_type": "code",
   "execution_count": 3,
   "metadata": {
    "scrolled": true
   },
   "outputs": [
    {
     "name": "stdout",
     "output_type": "stream",
     "text": [
      "9\n"
     ]
    }
   ],
   "source": []
  },
  {
   "cell_type": "code",
   "execution_count": 11,
   "metadata": {},
   "outputs": [
    {
     "name": "stdout",
     "output_type": "stream",
     "text": [
      "Collecting pandas\n",
      "  Downloading pandas-0.24.2-cp35-cp35m-win32.whl (7.3 MB)\n",
      "Requirement already satisfied: python-dateutil>=2.5.0 in c:\\users\\logan\\appdata\\local\\programs\\python\\python35-32\\lib\\site-packages (from pandas) (2.8.1)\n",
      "Collecting pytz>=2011k\n",
      "  Downloading pytz-2019.3-py2.py3-none-any.whl (509 kB)\n",
      "Collecting numpy>=1.12.0\n",
      "  Downloading numpy-1.18.1-cp35-cp35m-win32.whl (10.7 MB)\n",
      "Requirement already satisfied: six>=1.5 in c:\\users\\logan\\appdata\\local\\programs\\python\\python35-32\\lib\\site-packages (from python-dateutil>=2.5.0->pandas) (1.14.0)\n",
      "Installing collected packages: pytz, numpy, pandas\n",
      "Successfully installed numpy-1.18.1 pandas-0.24.2 pytz-2019.3\n"
     ]
    }
   ],
   "source": [
    "!pip3 install pandas"
   ]
  },
  {
   "cell_type": "code",
   "execution_count": null,
   "metadata": {},
   "outputs": [],
   "source": []
  }
 ],
 "metadata": {
  "kernelspec": {
   "display_name": "Python 3",
   "language": "python",
   "name": "python3"
  },
  "language_info": {
   "codemirror_mode": {
    "name": "ipython",
    "version": 3
   },
   "file_extension": ".py",
   "mimetype": "text/x-python",
   "name": "python",
   "nbconvert_exporter": "python",
   "pygments_lexer": "ipython3",
   "version": "3.5.2"
  }
 },
 "nbformat": 4,
 "nbformat_minor": 4
}
